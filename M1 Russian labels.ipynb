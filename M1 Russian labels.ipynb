{
 "metadata": {
  "name": ""
 },
 "nbformat": 3,
 "nbformat_minor": 0,
 "worksheets": [
  {
   "cells": [
    {
     "cell_type": "heading",
     "level": 2,
     "metadata": {},
     "source": [
      "Matplotlib. \u041f\u043e\u0434\u043f\u0438\u0441\u0438 \u043f\u043e-\u0440\u0443\u0441\u0441\u043a\u0438"
     ]
    },
    {
     "cell_type": "markdown",
     "metadata": {},
     "source": [
      "\u041f\u0440\u0438 \u043f\u0443\u0431\u043b\u0438\u043a\u0430\u0446\u0438\u0438 \u0440\u0435\u0437\u0443\u043b\u044c\u0442\u0430\u0442\u043e\u0432 \u043d\u0430\u0443\u0447\u043d\u043e\u0439 \u0440\u0430\u0431\u043e\u0442\u044b \u0432 \u043e\u0442\u0435\u0447\u0435\u0441\u0442\u0432\u0435\u043d\u043d\u044b\u0445 \u0436\u0443\u0440\u043d\u0430\u043b\u0430\u0445, \u043f\u0440\u0438 \u0432\u044b\u0441\u0442\u0443\u043f\u043b\u0435\u043d\u0438\u044f\u0445 \u043d\u0430 \u0434\u043e\u043a\u043b\u0430\u0434\u0430\u0445, \u043a\u043e\u043d\u0444\u0435\u0440\u0435\u043d\u0446\u0438\u044f\u0445 \u0438 \u043f\u0440\u0435\u0437\u0435\u043d\u0442\u0430\u0446\u0438\u044f\u0445 \u043f\u0435\u0440\u0435\u0434 \u0440\u043e\u0434\u043d\u043e\u0439 \u0430\u0443\u0434\u0438\u0442\u043e\u0440\u0438\u0435\u0439 \u0445\u043e\u0440\u043e\u0448\u0438\u043c \u0442\u043e\u043d\u043e\u043c \u0441\u0447\u0438\u0442\u0430\u0435\u0442\u0441\u044f \u043f\u043e\u0434\u043f\u0438\u0441\u044b\u0432\u0430\u0442\u044c \u0440\u0438\u0441\u0443\u043d\u043a\u0438 \u043d\u0430 \u044f\u0437\u044b\u043a\u0435 \u0440\u043e\u0434\u043d\u043e\u0439 \u0441\u0442\u0440\u0430\u043d\u044b, \u0442\u043e \u0435\u0441\u0442\u044c \u0432 \u043c\u043e\u0451\u043c \u0441\u043b\u0443\u0447\u0430\u0435 \u043d\u0430 \u0440\u0443\u0441\u0441\u043a\u043e\u043c \u044f\u0437\u044b\u043a\u0435. \u0412 \u044d\u0442\u043e\u043c notebook \u0440\u0430\u0437\u0431\u0435\u0440\u0451\u043c\u0441\u044f, \u043a\u0430\u043a \u043b\u0435\u0433\u043a\u043e \u0434\u0435\u043b\u0430\u0442\u044c \u043f\u043e\u0434\u043f\u0438\u0441\u0438 \u0440\u0438\u0441\u0443\u043d\u043a\u043e\u0432 \u0432 matplotlib \u043d\u0430 \u0440\u0443\u0441\u0441\u043a\u043e\u043c. \u0421\u0442\u043e\u0438\u0442 \u043e\u0442\u043c\u0435\u0442\u0438\u0442\u044c, \u0447\u0442\u043e \u0434\u0430\u043b\u044c\u043d\u0435\u0439\u0448\u0430\u044f \u0438\u043d\u0441\u0442\u0440\u0443\u043a\u0446\u0438\u044f \u043a\u0430\u0441\u0430\u0435\u0442\u0441\u044f pyhton2 \u0432\u0435\u0440\u0441\u0438\u0438 2.7.1. \u0412 \u0431\u043e\u043b\u0435\u0435 \u0440\u0430\u043d\u043d\u0438\u0445 \u0432\u0435\u0440\u0441\u0438\u044f\u0445, \u0432\u043e\u0437\u043c\u043e\u0436\u043d\u043e, \u043c\u043e\u0433\u0443\u0442 \u0431\u044b\u0442\u044c \u043e\u0442\u043b\u0438\u0447\u0438\u044f \u043e\u0442 \u043f\u0440\u0435\u0434\u0441\u0442\u0430\u0432\u043b\u0435\u043d\u043d\u043e\u0433\u043e \u043d\u0438\u0436\u0435 \u0430\u043b\u0433\u043e\u0440\u0438\u0442\u043c\u0430. "
     ]
    },
    {
     "cell_type": "heading",
     "level": 5,
     "metadata": {},
     "source": [
      "\u041d\u0430\u0441\u0442\u0440\u043e\u0439\u043a\u0430 1. \u0428\u0440\u0438\u0444\u0442\u044b"
     ]
    },
    {
     "cell_type": "markdown",
     "metadata": {},
     "source": [
      "\u041e\u0441\u043d\u043e\u0432\u043d\u0430\u044f \u043f\u0440\u043e\u0431\u043b\u0435\u043c\u0430 matplotlib \u0434\u043b\u044f \u043e\u0442\u043e\u0431\u0440\u0430\u0436\u0435\u043d\u0438\u044f \u043a\u0438\u0440\u0438\u043b\u043b\u0438\u0447\u0435\u0441\u043a\u0438\u0445 \u0441\u0438\u043c\u0432\u043e\u043b\u043e\u0432 \u0441\u043e\u0441\u0442\u043e\u0438\u0442 \u0432 \u0442\u043e\u043c, \u0447\u0442\u043e \u043f\u043e \u0443\u043c\u043e\u043b\u0447\u0430\u043d\u0438\u044e \u0438\u0441\u043f\u043e\u043b\u044c\u0437\u0443\u044e\u0442\u0441\u044f \u0448\u0440\u0438\u0444\u0442\u044b, \u043a\u043e\u0442\u043e\u0440\u044b\u0435 \u043d\u0435 \u043f\u043e\u0434\u0434\u0435\u0440\u0436\u0438\u0432\u0430\u044e\u0442 \u043a\u0438\u0440\u0438\u043b\u043b\u0438\u0446\u0443. \u0421\u043e\u043e\u0442\u0432\u0435\u0442\u0441\u0442\u0432\u0435\u043d\u043d\u043e, \u043d\u0435\u043e\u0431\u0445\u043e\u0434\u0438\u043c\u043e \u0441\u043c\u0435\u043d\u0438\u0442\u044c \u0448\u0440\u0438\u0444\u0442 \u043d\u0430 \u0442\u043e\u0442, \u043a\u043e\u0442\u043e\u0440\u044b\u0439 \u043f\u043e\u0434\u0434\u0435\u0440\u0436\u0438\u0432\u0430\u0435\u0442 \u043a\u0438\u0440\u0438\u043b\u043b\u0438\u0446\u0443, \u043d\u0430\u043f\u0440\u0438\u043c\u0435\u0440, Arial.\n",
      "\u0421\u0434\u0435\u043b\u0430\u0442\u044c \u044d\u0442\u043e \u043c\u043e\u0436\u043d\u043e \u043a\u0430\u043a \u0432 \u0442\u0435\u043b\u0435 \u0441\u0430\u043c\u043e\u0439 \u043f\u0440\u043e\u0433\u0440\u0430\u043c\u043c\u044b-\u0441\u043a\u0440\u0438\u043f\u0442\u0430, \u0442\u0430\u043a \u0438 \u0432 \u043f\u0440\u043e\u0444\u0438\u043b\u044c\u043d\u044b\u0445 \u043d\u0430\u0441\u0442\u0440\u043e\u0439\u043a\u0430\u0445.\n"
     ]
    },
    {
     "cell_type": "markdown",
     "metadata": {},
     "source": [
      "C \u043f\u043e\u043c\u043e\u0449\u044c\u044e matplotlib.rcParams \u043c\u043e\u0436\u043d\u043e, \u0432\u043e-\u043f\u0435\u0440\u0432\u044b\u0445, \u0443\u0441\u0442\u0430\u043d\u043e\u0432\u0438\u0442\u044c \u0432\u0441\u0435 \u043f\u0430\u0440\u0430\u043c\u0435\u0442\u0440\u044b \u0440\u0438\u0441\u043e\u0432\u0430\u043d\u0438\u044f (\u0448\u0440\u0438\u0444\u0442\u044b, \u0442\u043e\u043b\u0448\u0438\u043d\u0430/\u0442\u0438\u043f \u043b\u0438\u043d\u0438\u0439, \u043e\u0444\u043e\u0440\u043c\u043b\u0435\u043d\u0438\u0435 \u0440\u0430\u043c\u043e\u043a) \u043d\u0430 \u043d\u0435\u043e\u0431\u0445\u043e\u0434\u0438\u043c\u044b\u0435 \u0437\u043d\u0430\u0447\u0435\u043d\u0438\u044f, \u0430 \u0432\u043e-\u0432\u0442\u043e\u0440\u044b\u0445, \u0443\u0432\u0438\u0434\u0435\u0442\u044c, \u0441\u043e\u0431\u0441\u0442\u0432\u0435\u043d\u043d\u043e, \u0441\u043f\u0438\u0441\u043e\u043a \u043d\u0430\u0441\u0442\u0440\u043e\u0435\u043a, \u0442\u043e \u0435\u0441\u0442\u044c \u0441\u043f\u0438\u0441\u043e\u043a \u0442\u043e\u0433\u043e, \u0447\u0442\u043e \u043c\u043e\u0436\u043d\u043e \u0438\u0437\u043c\u0435\u043d\u0438\u0442\u044c."
     ]
    },
    {
     "cell_type": "code",
     "collapsed": false,
     "input": [
      "#import matplotlib as mpl\n",
      "#mpl.rcParams # \u043f\u043e\u043a\u0430\u0437\u044b\u0432\u0430\u0435\u0442 \u0442\u0435\u043a\u0443\u0449\u0438\u0435 \u043d\u0430\u0441\u0442\u0440\u043e\u0439\u043a\u0438\n",
      "#mpl.rcParamsDefault # \u043f\u043e\u043a\u0430\u0437\u044b\u0432\u0430\u0435\u0442 \u0437\u043d\u0430\u0447\u0435\u043d\u0438\u044f \u043f\u0430\u0440\u0430\u043c\u0435\u0442\u0440\u043e\u0432, \u043a\u043e\u0442\u043e\u0440\u044b\u0435 \u0445\u0440\u0430\u043d\u044f\u0442\u0441\u044f \u0432 \u0444\u0430\u0439\u043b\u0435 matplotlibrc\n",
      "#mpl.rcdefaults() # \u0441\u0431\u0440\u0430\u0441\u044b\u0432\u0430\u0435\u0442 \u0437\u043d\u0430\u0447\u0435\u043d\u0438\u044f \u043d\u0430 \u0442\u0435, \u043a\u043e\u0442\u043e\u0440\u044b\u0435 \u0445\u0440\u0430\u043d\u044f\u0442\u0441\u044f \u0432 \u0444\u0430\u0439\u043b\u0435 matplotlibrc"
     ],
     "language": "python",
     "metadata": {},
     "outputs": [],
     "prompt_number": 23
    },
    {
     "cell_type": "markdown",
     "metadata": {},
     "source": [
      "\u0421\u0430\u043c\u0438 \u043d\u0430\u0441\u0442\u0440\u043e\u0439\u043a\u0438 \u043b\u0435\u0436\u0430\u0442 \u0432 \u0444\u0430\u0439\u043b\u0435 \u0441 \u043d\u0430\u0437\u0432\u0430\u043d\u0438\u0435\u043c matplotlibrc. \u0427\u0442\u043e\u0431\u044b \u0443\u0437\u043d\u0430\u0442\u044c \u043a\u0430\u043a\u043e\u0439 \u0438\u043c\u0435\u043d\u043d\u043e \u0444\u0430\u0439\u043b \u0438\u0441\u043f\u043e\u043b\u044c\u0437\u0443\u0435\u0442\u0441\u044f (\u0442\u043e \u0435\u0441\u0442\u044c \u0433\u0434\u0435 \u043e\u043d \u0431\u0443\u0434\u0435\u0442 \u0438\u0441\u043a\u0430\u0442\u044c\u0441\u044f \u0441\u0438\u0441\u0442\u0435\u043c\u043e\u0439) \u0435\u0441\u0442\u044c \u0441\u043f\u0435\u0446\u0438\u0430\u043b\u044c\u043d\u0430\u044f \u0444\u0443\u043d\u043a\u0446\u0438\u044f:"
     ]
    },
    {
     "cell_type": "code",
     "collapsed": false,
     "input": [
      "import matplotlib as mpl\n",
      "mpl.matplotlib_fname() # \u043f\u043e\u043a\u0430\u0437\u044b\u0432\u0430\u0435\u0442 \u043e\u0442\u043a\u0443\u0434\u0430 \u0431\u044b\u043b \u0437\u0430\u0433\u0440\u0443\u0436\u0435\u043d \u0442\u0435\u043a\u0443\u0448\u0438\u0439 \u0444\u0430\u0439\u043b matplotlibrc"
     ],
     "language": "python",
     "metadata": {},
     "outputs": [
      {
       "metadata": {},
       "output_type": "pyout",
       "prompt_number": 16,
       "text": [
        "'C:\\\\Python27\\\\lib\\\\site-packages\\\\matplotlib\\\\mpl-data\\\\matplotlibrc'"
       ]
      }
     ],
     "prompt_number": 16
    },
    {
     "cell_type": "markdown",
     "metadata": {},
     "source": [
      "\u0414\u043e\u043f\u043e\u043b\u043d\u0438\u0442\u0435\u043b\u044c\u043d\u0443\u044e \u0438\u043d\u0444\u043e\u0440\u043c\u0430\u0446\u0438\u044e \u043f\u043e \u0438\u0441\u043f\u043e\u043b\u044c\u0437\u043e\u0432\u0430\u043d\u0438\u044e \u044d\u0442\u043e\u0433\u043e \u0444\u0430\u0439\u043b\u0430 \u0435\u0441\u0442\u044c \u0437\u0434\u0435\u0441\u044c:"
     ]
    },
    {
     "cell_type": "markdown",
     "metadata": {},
     "source": [
      "http://matplotlib.org/users/customizing.html"
     ]
    },
    {
     "cell_type": "markdown",
     "metadata": {},
     "source": [
      "\u0422\u0430\u043c \u0436\u0435 \u0435\u0441\u0442\u044c \u0438  \u0442\u0438\u043f\u0438\u0447\u043d\u044b\u0439 \u0444\u0430\u0439\u043b matplotlibrc, \u0435\u0441\u043b\u0438 \u043e\u043d \u0432\u0434\u0440\u0443\u0433 \u0438\u0441\u043f\u043e\u0440\u0442\u0438\u043b\u0441\u044f."
     ]
    },
    {
     "cell_type": "code",
     "collapsed": false,
     "input": [
      "import matplotlib as mpl\n",
      "mpl.rcParams # \u043f\u043e\u043a\u0430\u0437\u044b\u0432\u0430\u0435\u0442 \u0442\u0435\u043a\u0443\u0449\u0438\u0435 \u043d\u0430\u0441\u0442\u0440\u043e\u0439\u043a\u0438"
     ],
     "language": "python",
     "metadata": {},
     "outputs": [
      {
       "metadata": {},
       "output_type": "pyout",
       "prompt_number": 24,
       "text": [
        "RcParams({'agg.path.chunksize': 0,\n",
        "          'animation.avconv_args': '',\n",
        "          'animation.avconv_path': 'avconv',\n",
        "          'animation.bitrate': -1,\n",
        "          'animation.codec': 'mpeg4',\n",
        "          'animation.convert_args': '',\n",
        "          'animation.convert_path': 'convert',\n",
        "          'animation.ffmpeg_args': '',\n",
        "          'animation.ffmpeg_path': 'ffmpeg',\n",
        "          'animation.frame_format': 'png',\n",
        "          'animation.mencoder_args': '',\n",
        "          'animation.mencoder_path': 'mencoder',\n",
        "          'animation.writer': 'ffmpeg',\n",
        "          'axes.axisbelow': False,\n",
        "          'axes.color_cycle': ['b', 'g', 'r', 'c', 'm', 'y', 'k'],\n",
        "          'axes.edgecolor': 'k',\n",
        "          'axes.facecolor': 'w',\n",
        "          'axes.formatter.limits': [-7, 7],\n",
        "          'axes.formatter.use_locale': False,\n",
        "          'axes.formatter.use_mathtext': False,\n",
        "          'axes.grid': False,\n",
        "          'axes.hold': True,\n",
        "          'axes.labelcolor': 'k',\n",
        "          'axes.labelsize': 'medium',\n",
        "          'axes.labelweight': 'normal',\n",
        "          'axes.linewidth': 1.0,\n",
        "          'axes.titlesize': 'large',\n",
        "          'axes.unicode_minus': True,\n",
        "          'axes.xmargin': 0,\n",
        "          'axes.ymargin': 0,\n",
        "          'axes3d.grid': True,\n",
        "          'backend': 'Agg',\n",
        "          'backend.qt4': 'PyQt4',\n",
        "          'backend_fallback': True,\n",
        "          'contour.negative_linestyle': 'dashed',\n",
        "          'datapath': 'C:\\\\Python27\\\\lib\\\\site-packages\\\\matplotlib\\\\mpl-data',\n",
        "          'docstring.hardcopy': False,\n",
        "          'examples.directory': '',\n",
        "          'figure.autolayout': False,\n",
        "          'figure.dpi': 80,\n",
        "          'figure.edgecolor': 'w',\n",
        "          'figure.facecolor': '0.75',\n",
        "          'figure.figsize': [8.0, 6.0],\n",
        "          'figure.frameon': True,\n",
        "          'figure.max_open_warning': 20,\n",
        "          'figure.subplot.bottom': 0.1,\n",
        "          'figure.subplot.hspace': 0.2,\n",
        "          'figure.subplot.left': 0.125,\n",
        "          'figure.subplot.right': 0.9,\n",
        "          'figure.subplot.top': 0.9,\n",
        "          'figure.subplot.wspace': 0.2,\n",
        "          'font.cursive': ['Apple Chancery',\n",
        "                           'Textile',\n",
        "                           'Zapf Chancery',\n",
        "                           'Sand',\n",
        "                           'cursive'],\n",
        "          'font.family': 'sans-serif',\n",
        "          'font.fantasy': ['Comic Sans MS',\n",
        "                           'Chicago',\n",
        "                           'Charcoal',\n",
        "                           'ImpactWestern',\n",
        "                           'fantasy'],\n",
        "          'font.monospace': ['Bitstream Vera Sans Mono',\n",
        "                             'DejaVu Sans Mono',\n",
        "                             'Andale Mono',\n",
        "                             'Nimbus Mono L',\n",
        "                             'Courier New',\n",
        "                             'Courier',\n",
        "                             'Fixed',\n",
        "                             'Terminal',\n",
        "                             'monospace'],\n",
        "          'font.sans-serif': ['Bitstream Vera Sans',\n",
        "                              'DejaVu Sans',\n",
        "                              'Lucida Grande',\n",
        "                              'Verdana',\n",
        "                              'Geneva',\n",
        "                              'Lucid',\n",
        "                              'Arial',\n",
        "                              'Helvetica',\n",
        "                              'Avant Garde',\n",
        "                              'sans-serif'],\n",
        "          'font.serif': ['Bitstream Vera Serif',\n",
        "                         'DejaVu Serif',\n",
        "                         'New Century Schoolbook',\n",
        "                         'Century Schoolbook L',\n",
        "                         'Utopia',\n",
        "                         'ITC Bookman',\n",
        "                         'Bookman',\n",
        "                         'Nimbus Roman No9 L',\n",
        "                         'Times New Roman',\n",
        "                         'Times',\n",
        "                         'Palatino',\n",
        "                         'Charter',\n",
        "                         'serif'],\n",
        "          'font.size': 12,\n",
        "          'font.stretch': 'normal',\n",
        "          'font.style': 'normal',\n",
        "          'font.variant': 'normal',\n",
        "          'font.weight': 'normal',\n",
        "          'grid.alpha': 1.0,\n",
        "          'grid.color': 'k',\n",
        "          'grid.linestyle': ':',\n",
        "          'grid.linewidth': 0.5,\n",
        "          'image.aspect': 'equal',\n",
        "          'image.cmap': 'jet',\n",
        "          'image.interpolation': 'bilinear',\n",
        "          'image.lut': 256,\n",
        "          'image.origin': 'upper',\n",
        "          'image.resample': False,\n",
        "          'interactive': False,\n",
        "          'keymap.all_axes': 'a',\n",
        "          'keymap.back': ['left', 'c', 'backspace'],\n",
        "          'keymap.forward': ['right', 'v'],\n",
        "          'keymap.fullscreen': ('f', 'ctrl+f'),\n",
        "          'keymap.grid': 'g',\n",
        "          'keymap.home': ['h', 'r', 'home'],\n",
        "          'keymap.pan': 'p',\n",
        "          'keymap.quit': ('ctrl+w', 'cmd+w'),\n",
        "          'keymap.save': ('s', 'ctrl+s'),\n",
        "          'keymap.xscale': ['k', 'L'],\n",
        "          'keymap.yscale': 'l',\n",
        "          'keymap.zoom': 'o',\n",
        "          'legend.borderaxespad': 0.5,\n",
        "          'legend.borderpad': 0.4,\n",
        "          'legend.columnspacing': 2.0,\n",
        "          'legend.fancybox': False,\n",
        "          'legend.fontsize': 'large',\n",
        "          'legend.frameon': True,\n",
        "          'legend.handleheight': 0.7,\n",
        "          'legend.handlelength': 2.0,\n",
        "          'legend.handletextpad': 0.8,\n",
        "          'legend.isaxes': True,\n",
        "          'legend.labelspacing': 0.5,\n",
        "          'legend.loc': 'upper right',\n",
        "          'legend.markerscale': 1.0,\n",
        "          'legend.numpoints': 2,\n",
        "          'legend.scatterpoints': 3,\n",
        "          'legend.shadow': False,\n",
        "          'lines.antialiased': True,\n",
        "          'lines.color': 'b',\n",
        "          'lines.dash_capstyle': 'butt',\n",
        "          'lines.dash_joinstyle': 'round',\n",
        "          'lines.linestyle': '-',\n",
        "          'lines.linewidth': 1.0,\n",
        "          'lines.marker': 'None',\n",
        "          'lines.markeredgewidth': 0.5,\n",
        "          'lines.markersize': 6,\n",
        "          'lines.solid_capstyle': 'projecting',\n",
        "          'lines.solid_joinstyle': 'round',\n",
        "          'mathtext.bf': 'serif:bold',\n",
        "          'mathtext.cal': 'cursive',\n",
        "          'mathtext.default': 'it',\n",
        "          'mathtext.fallback_to_cm': True,\n",
        "          'mathtext.fontset': 'cm',\n",
        "          'mathtext.it': 'serif:italic',\n",
        "          'mathtext.rm': 'serif',\n",
        "          'mathtext.sf': 'sans\\\\-serif',\n",
        "          'mathtext.tt': 'monospace',\n",
        "          'patch.antialiased': True,\n",
        "          'patch.edgecolor': 'k',\n",
        "          'patch.facecolor': 'b',\n",
        "          'patch.linewidth': 1.0,\n",
        "          'path.effects': [],\n",
        "          'path.simplify': True,\n",
        "          'path.simplify_threshold': 0.1111111111111111,\n",
        "          'path.sketch': None,\n",
        "          'path.snap': True,\n",
        "          'pdf.compression': 6,\n",
        "          'pdf.fonttype': 3,\n",
        "          'pdf.inheritcolor': False,\n",
        "          'pdf.use14corefonts': False,\n",
        "          'pgf.debug': False,\n",
        "          'pgf.preamble': [''],\n",
        "          'pgf.rcfonts': True,\n",
        "          'pgf.texsystem': 'xelatex',\n",
        "          'plugins.directory': '.matplotlib_plugins',\n",
        "          'polaraxes.grid': True,\n",
        "          'ps.distiller.res': 6000,\n",
        "          'ps.fonttype': 3,\n",
        "          'ps.papersize': 'letter',\n",
        "          'ps.useafm': False,\n",
        "          'ps.usedistiller': False,\n",
        "          'savefig.bbox': None,\n",
        "          'savefig.directory': '~',\n",
        "          'savefig.dpi': 100,\n",
        "          'savefig.edgecolor': 'w',\n",
        "          'savefig.extension': 'png',\n",
        "          'savefig.facecolor': 'w',\n",
        "          'savefig.format': 'png',\n",
        "          'savefig.frameon': True,\n",
        "          'savefig.jpeg_quality': 95,\n",
        "          'savefig.orientation': 'portrait',\n",
        "          'savefig.pad_inches': 0.1,\n",
        "          'svg.embed_char_paths': True,\n",
        "          'svg.fonttype': 'path',\n",
        "          'svg.image_inline': True,\n",
        "          'svg.image_noscale': False,\n",
        "          'text.antialiased': True,\n",
        "          'text.color': 'k',\n",
        "          'text.dvipnghack': None,\n",
        "          'text.hinting': True,\n",
        "          'text.hinting_factor': 8,\n",
        "          'text.latex.preamble': [''],\n",
        "          'text.latex.preview': False,\n",
        "          'text.latex.unicode': False,\n",
        "          'text.usetex': False,\n",
        "          'timezone': 'UTC',\n",
        "          'tk.pythoninspect': False,\n",
        "          'tk.window_focus': False,\n",
        "          'toolbar': 'toolbar2',\n",
        "          'verbose.fileo': 'sys.stdout',\n",
        "          'verbose.level': 'silent',\n",
        "          'webagg.open_in_browser': True,\n",
        "          'webagg.port': 8988,\n",
        "          'webagg.port_retries': 50,\n",
        "          'xtick.color': 'k',\n",
        "          'xtick.direction': 'in',\n",
        "          'xtick.labelsize': 'medium',\n",
        "          'xtick.major.pad': 4,\n",
        "          'xtick.major.size': 4,\n",
        "          'xtick.major.width': 0.5,\n",
        "          'xtick.minor.pad': 4,\n",
        "          'xtick.minor.size': 2,\n",
        "          'xtick.minor.width': 0.5,\n",
        "          'ytick.color': 'k',\n",
        "          'ytick.direction': 'in',\n",
        "          'ytick.labelsize': 'medium',\n",
        "          'ytick.major.pad': 4,\n",
        "          'ytick.major.size': 4,\n",
        "          'ytick.major.width': 0.5,\n",
        "          'ytick.minor.pad': 4,\n",
        "          'ytick.minor.size': 2,\n",
        "          'ytick.minor.width': 0.5})"
       ]
      }
     ],
     "prompt_number": 24
    },
    {
     "cell_type": "markdown",
     "metadata": {},
     "source": [
      "\u041d\u0430\u0441 \u0438\u043d\u0442\u0435\u0440\u0435\u0441\u0443\u044e\u0442 fonts, \u0442\u043e \u0435\u0441\u0442\u044c \u0448\u0440\u0438\u0444\u0442\u044b. \u0415\u0441\u0442\u044c 5 \u0441\u0442\u0438\u043b\u0435\u0439 \u0448\u0440\u0438\u0444\u0442\u043e\u0432: cursive, fantasy, monospace, sans-serif \u0438 serif. \u0415\u0449\u0451 \u0435\u0441\u0442\u044c family \u0448\u0440\u0438\u0444\u0442, \u043a\u043e\u0442\u043e\u0440\u044b\u0439 \u043e\u043f\u0440\u0435\u0434\u0435\u043b\u044f\u0435\u0442, \u043a\u0430\u043a\u043e\u0439 \u0438\u0437 \u043f\u044f\u0442\u0438 \u0441\u0442\u0438\u043b\u0435\u0439 \u0431\u0443\u0434\u0435\u0442 \u0438\u0441\u043f\u043e\u043b\u044c\u0437\u043e\u0432\u0430\u0442\u044c\u0441\u044f \u043f\u043e \u0443\u043c\u043e\u043b\u0447\u0430\u043d\u0438\u044e. \u0412 \u043f\u0440\u0438\u0432\u0435\u0434\u0435\u043d\u043d\u043e\u043c \u0432\u044b\u0448\u0435 \u043f\u0440\u0438\u043c\u0435\u0440\u0435 \u0431\u0443\u0434\u0435\u0442 \u0438\u0441\u043f\u043e\u043b\u044c\u0437\u043e\u0432\u0430\u0442\u044c\u0441\u044f sans-serif.\n",
      "\u0423 \u043a\u0430\u0436\u0434\u043e\u0433\u043e \u0441\u0442\u0438\u043b\u044f \u0448\u0440\u0438\u0444\u0442\u0430 \u043e\u043f\u0440\u0435\u0434\u0435\u043b\u0435\u043d\u044b \u0441\u043f\u0438\u0441\u043a\u0438 \u0438\u0437 \u0440\u0435\u0430\u043b\u044c\u043d\u044b\u0445 \u0448\u0440\u0438\u0444\u0442\u043e\u0432, \u043a\u043e\u0442\u043e\u0440\u044b\u043c\u0438 \u043f\u043e\u043b\u044c\u0437\u0443\u044e\u0442\u0441\u044f \u0432 \u0442\u0435\u043a\u0441\u0442\u043e\u0432\u044b\u0445 \u043f\u0440\u043e\u0446\u0435\u0441\u0441\u043e\u0440\u0430\u0445 \u0438 \u0440\u0435\u0434\u0430\u043a\u0442\u043e\u0440\u0430\u0445. \u0427\u0442\u043e\u0431\u044b \u043f\u043e\u0441\u0442\u0430\u0432\u0438\u0442\u044c \u0448\u0440\u0438\u0444\u0442, \u043a\u043e\u0442\u043e\u0440\u044b\u0439 \u043e\u0442\u043e\u0431\u0440\u0430\u0436\u0430\u0435\u0442 \u043a\u0438\u0440\u0438\u043b\u043b\u0438\u0446\u0443, \u043d\u0435\u043e\u0431\u0445\u043e\u0434\u0438\u043c\u043e \u0438\u0441\u043f\u043e\u043b\u044c\u0437\u043e\u0432\u0430\u0442\u044c \u0441\u043b\u0435\u0434\u0443\u044e\u0449\u0443\u044e \u043a\u043e\u043d\u0441\u0442\u0440\u0443\u043a\u0446\u0438\u044e:"
     ]
    },
    {
     "cell_type": "code",
     "collapsed": false,
     "input": [
      "import matplotlib as mpl\n",
      "mpl.rcParams['font.family'] = 'fantasy'\n",
      "mpl.rcParams['font.fantasy'] = 'Arial'"
     ],
     "language": "python",
     "metadata": {},
     "outputs": []
    },
    {
     "cell_type": "markdown",
     "metadata": {},
     "source": [
      "\u0422\u0430\u043a\u0438\u043c \u043e\u0431\u0440\u0430\u0437\u043e\u043c, \u0441\u0442\u0438\u043b\u044c fantasy \u0431\u0443\u0434\u0435\u0442 \u043e\u0441\u043d\u043e\u0432\u043d\u044b\u043c, \u0430 \u0435\u0434\u0438\u043d\u0441\u0442\u0432\u0435\u043d\u043d\u044b\u043c \u0440\u0435\u0430\u043b\u044c\u043d\u044b\u043c \u0448\u0440\u0438\u0444\u0442\u043e\u043c \u0432 \u043d\u0451\u043c \u0431\u0443\u0434\u0435\u0442 Arial, \u043a\u043e\u0442\u043e\u0440\u044b\u0439 \u043a\u043e\u0440\u0440\u0435\u043a\u0442\u043d\u043e \u043e\u0442\u043e\u0431\u0440\u0430\u0436\u0430\u0435\u0442 \u043a\u0438\u0440\u0438\u043b\u043b\u0438\u0447\u0435\u043a\u0438\u0435 \u0441\u0438\u043c\u0432\u043e\u043b\u044b."
     ]
    },
    {
     "cell_type": "heading",
     "level": 5,
     "metadata": {},
     "source": [
      "\u041d\u0430\u0441\u0442\u0440\u043e\u0439\u043a\u0430 2. \u042e\u043d\u0438\u043a\u043e\u0434"
     ]
    },
    {
     "cell_type": "markdown",
     "metadata": {},
     "source": [
      "\u0412\u0442\u043e\u0440\u044b\u043c \u043d\u0435\u043e\u0431\u0445\u043e\u0434\u0438\u043c\u044b\u043c \u0443\u0441\u043b\u043e\u0432\u0438\u0435\u043c \u0434\u043b\u044f \u043e\u0442\u043e\u0431\u0440\u0430\u0436\u0435\u043d\u0438\u044f \u043d\u0430 \u0440\u0438\u0441\u0443\u043d\u043a\u0430\u0445 matplotlib \u0440\u0443\u0441\u0441\u043a\u0438\u0445 \u0431\u0443\u043a\u0432 \u044f\u0432\u043b\u044f\u0435\u0442\u0441\u044f \u0438\u0441\u043f\u043e\u043b\u044c\u0437\u043e\u0432\u0430\u043d\u0438\u0435 unicode-\u0441\u0442\u0440\u043e\u043a. \u0412 python3 \u0432\u0441\u0435 \u0441\u0442\u0440\u043e\u043a\u0438 \u044f\u0432\u043b\u044f\u044e\u0442\u0441\u044f \u044e\u043d\u0438\u043a\u043e\u0434\u043e\u0432\u044b\u043c\u0438, \u0442\u0430\u043c \u0434\u043e\u043f\u043e\u043b\u043d\u0438\u0442\u0435\u043b\u044c\u043d\u044b\u0445 \u043f\u0440\u0438\u043c\u043e\u0447\u0435\u043a \u043d\u0435 \u043d\u0443\u0436\u043d\u043e. \u0412 python2 \u043d\u0435\u043e\u0431\u0445\u043e\u0434\u0438\u043c\u043e \u043f\u0440\u0435\u043e\u0431\u0440\u0430\u0437\u043e\u0432\u044b\u0432\u0430\u0442\u044c \u043e\u0431\u044b\u0447\u043d\u0443\u044e \u0441\u0442\u0440\u043e\u043a\u0443 \u0432 \u044e\u043d\u0438\u043a\u043e\u0434-\u0441\u0442\u0440\u043e\u043a\u0443: "
     ]
    },
    {
     "cell_type": "code",
     "collapsed": false,
     "input": [
      "str1 = '\u0441\u0442\u0440\u043e\u043a\u0430 1' # \u043e\u0431\u044b\u0447\u043d\u0430\u044f \u0441\u0442\u0440\u043e\u043a\u0430\n",
      "str2 = u'\u0441\u0442\u0440\u043e\u043a\u0430 2' # unicode-\u0441\u0442\u0440\u043e\u043a\u0430\n",
      "print str1,type(str1)\n",
      "print str2,type(str2)"
     ],
     "language": "python",
     "metadata": {},
     "outputs": [
      {
       "output_type": "stream",
       "stream": "stdout",
       "text": [
        "\u0441\u0442\u0440\u043e\u043a\u0430 1 <type 'str'>\n",
        "\u0441\u0442\u0440\u043e\u043a\u0430 2 <type 'unicode'>\n"
       ]
      }
     ],
     "prompt_number": 4
    },
    {
     "cell_type": "markdown",
     "metadata": {},
     "source": [
      "\u041d\u0443 \u0438 \u0442\u0430\u043a \u043a\u0430\u043a \u043c\u044b \u0438\u0441\u043f\u043e\u043b\u044c\u0437\u0443\u0435\u043c unicode-\u0441\u0442\u0440\u043e\u043a\u0438, \u0442\u043e \u0441\u0442\u0430\u0432\u0438\u043c \u0432 \u043d\u0430\u0447\u0430\u043b\u0435 \u0441\u043a\u0440\u0438\u043f\u0442\u0430 \u0434\u0435\u043a\u043e\u0434\u0435\u0440: # -*- coding: utf-8 -*-  "
     ]
    },
    {
     "cell_type": "markdown",
     "metadata": {},
     "source": [
      "\u0421\u0443\u043c\u043c\u0438\u0440\u0443\u0435\u043c \u0432\u0441\u0451 \u0432\u044b\u0448\u0435 \u0438\u0437\u043b\u043e\u0436\u0435\u043d\u043d\u043e\u0435 \u0438 \u043f\u0440\u0438\u0432\u0435\u0434\u0451\u043c \u043f\u0440\u0438\u043c\u0435\u0440."
     ]
    },
    {
     "cell_type": "heading",
     "level": 4,
     "metadata": {},
     "source": [
      "\u041f\u0440\u0438\u043c\u0435\u0440"
     ]
    },
    {
     "cell_type": "code",
     "collapsed": false,
     "input": [
      "# -*- coding: utf-8 -*-\n",
      "\n",
      "import numpy as np\n",
      "import matplotlib as mpl\n",
      "import matplotlib.pyplot as plt\n",
      "\n",
      "mpl.rcParams['font.family'] = 'fantasy'\n",
      "mpl.rcParams['font.fantasy'] = 'Times New Roman'\n",
      "# \u0438\u043b\u0438\n",
      "#mpl.rcParams['font.fantasy'] = 'Arial'\n",
      "#mpl.rcParams['font.fantasy'] = 'Tahoma'\n",
      "#mpl.rcParams['font.fantasy'] = 'Calibri'\n",
      "#mpl.rcParams['font.fantasy'] = 'Comic Sans'\n",
      "\n",
      "x = np.arange(-pi,pi+0.1,0.1)\n",
      "\n",
      "fig = plt.figure()\n",
      "ax1 = fig.add_subplot(111)\n",
      "y = np.tanh(x)\n",
      "y2 = np.arctan(x)\n",
      "ax1.plot(x,y,'k--',label=u'\u0413\u0438\u043f\u0435\u0440\u0431\u043e\u043b\u0438\u0447\u0435\u0441\u043a\u0438\u0439 \u0442\u0430\u043d\u0433\u0435\u043d\u0441')\n",
      "ax1.plot(x,y2,'b',label=u'\u0410\u0440\u043a\u0442\u0430\u043d\u0433\u0435\u043d\u0441')\n",
      "\n",
      "st = u'\u0417\u0430\u0433\u043e\u043b\u043e\u0432\u043e\u043a \u043f\u043e-\u0440\u0443\u0441\u0441\u043a\u0438'\n",
      "sy = u'\u041e\u0441\u044c \u043e\u0440\u0434\u0438\u043d\u0430\u0442 OY \u043f\u043e-\u0440\u0443\u0441\u0441\u043a\u0438'\n",
      "sx = u'\u041e\u0441\u044c \u0430\u0431\u0441\u0446\u0438\u0441\u0441 OX \u043f\u043e-\u0440\u0443\u0441\u0441\u043a\u0438'\n",
      "\n",
      "ax1.set_title(st,size=20,color='green')\n",
      "ax1.set_xlabel(sx,size=14,color='orange')\n",
      "ax1.set_ylabel(sy,size=12, color='black')\n",
      "ax1.grid(True)\n",
      "ax1.legend(loc='best',frameon=False)\n",
      "\n",
      "plt.show()"
     ],
     "language": "python",
     "metadata": {},
     "outputs": [
      {
       "metadata": {},
       "output_type": "display_data",
       "png": "[encoded data removed]",
       "text": [
        "<matplotlib.figure.Figure at 0x791a1b0>"
       ]
      }
     ],
     "prompt_number": 15
    }
   ],
   "metadata": {}
  }
 ]
}